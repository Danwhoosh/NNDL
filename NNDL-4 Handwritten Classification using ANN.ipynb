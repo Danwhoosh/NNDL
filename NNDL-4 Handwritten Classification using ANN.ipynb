{
 "cells": [
  {
   "cell_type": "markdown",
   "id": "f547df1b",
   "metadata": {},
   "source": [
    "# Handwitten Classification using ANN"
   ]
  },
  {
   "cell_type": "code",
   "execution_count": 2,
   "id": "f2493c78",
   "metadata": {},
   "outputs": [],
   "source": [
    "import tensorflow as tf\n",
    "from tensorflow import keras"
   ]
  },
  {
   "cell_type": "code",
   "execution_count": 3,
   "id": "cdf18542",
   "metadata": {},
   "outputs": [],
   "source": [
    "#Lodaing the MNISt dataset\n",
    "(x_train, y_train), (x_test, y_test) = keras.datasets.mnist.load_data()"
   ]
  },
  {
   "cell_type": "code",
   "execution_count": 4,
   "id": "a514d73c",
   "metadata": {},
   "outputs": [],
   "source": [
    "#Normalize the pixel values between 0 and 1\n",
    "x_train = x_train / 255.0\n",
    "x_test = x_test / 255.0"
   ]
  },
  {
   "cell_type": "code",
   "execution_count": 5,
   "id": "ead790f4",
   "metadata": {},
   "outputs": [],
   "source": [
    "#Define the ANN Model Architecture\n",
    "\n",
    "model = keras.Sequential([\n",
    "    keras.layers.Flatten(input_shape = (28, 28)),   #Convert the 28x28 image into a 1D Array\n",
    "    keras.layers.Dense(128, activation = 'relu'),   #Hidden Layer with 128 Units\n",
    "    keras.layers.Dense(10, activation = 'softmax')  #Output Layer with 10 units\n",
    "])"
   ]
  },
  {
   "cell_type": "code",
   "execution_count": 6,
   "id": "edaf4acd",
   "metadata": {},
   "outputs": [],
   "source": [
    "#Complie the model\n",
    "model.compile(optimizer = 'adam' , loss = 'sparse_categorical_crossentropy', metrics = ['accuracy'])"
   ]
  },
  {
   "cell_type": "code",
   "execution_count": 7,
   "id": "0eff0c1d",
   "metadata": {},
   "outputs": [
    {
     "name": "stdout",
     "output_type": "stream",
     "text": [
      "Epoch 1/5\n",
      "1875/1875 [==============================] - 3s 1ms/step - loss: 0.2636 - accuracy: 0.9254 - val_loss: 0.1470 - val_accuracy: 0.9565\n",
      "Epoch 2/5\n",
      "1875/1875 [==============================] - 2s 1ms/step - loss: 0.1191 - accuracy: 0.9648 - val_loss: 0.1010 - val_accuracy: 0.9694\n",
      "Epoch 3/5\n",
      "1875/1875 [==============================] - 2s 1ms/step - loss: 0.0820 - accuracy: 0.9754 - val_loss: 0.0911 - val_accuracy: 0.9726\n",
      "Epoch 4/5\n",
      "1875/1875 [==============================] - 2s 1ms/step - loss: 0.0607 - accuracy: 0.9816 - val_loss: 0.0815 - val_accuracy: 0.9743\n",
      "Epoch 5/5\n",
      "1875/1875 [==============================] - 2s 1ms/step - loss: 0.0478 - accuracy: 0.9856 - val_loss: 0.0766 - val_accuracy: 0.9746\n"
     ]
    }
   ],
   "source": [
    "history = model.fit(x_train, y_train, epochs=5, validation_data = (x_test, y_test))"
   ]
  },
  {
   "cell_type": "code",
   "execution_count": 8,
   "id": "3c0de4c9",
   "metadata": {},
   "outputs": [
    {
     "name": "stdout",
     "output_type": "stream",
     "text": [
      "313/313 [==============================] - 0s 630us/step\n"
     ]
    }
   ],
   "source": [
    "#Predict the Labels of the test set\n",
    "import numpy as np\n",
    "y_pred = model.predict(x_test)\n",
    "y_pred = np.argmax(y_pred, axis = 1)"
   ]
  },
  {
   "cell_type": "code",
   "execution_count": 9,
   "id": "499ddea8",
   "metadata": {},
   "outputs": [
    {
     "name": "stdout",
     "output_type": "stream",
     "text": [
      "Confusion Matrix\n",
      "[[ 970    0    0    3    1    1    1    1    3    0]\n",
      " [   0 1123    2    2    0    2    2    0    4    0]\n",
      " [   9    1  995    8    3    0    2    8    6    0]\n",
      " [   0    0    2 1000    0    2    0    3    2    1]\n",
      " [   2    0    4    1  952    0    3    3    1   16]\n",
      " [   2    0    0   15    1  865    3    0    4    2]\n",
      " [   7    3    2    1    2    8  932    0    3    0]\n",
      " [   2    4    7    6    2    1    0  993    2   11]\n",
      " [   7    1    3   15    4    6    2    1  930    5]\n",
      " [   3    3    0    7    3    4    0    2    1  986]]\n",
      "Accuracy: 0.9746\n"
     ]
    }
   ],
   "source": [
    "from sklearn.metrics import confusion_matrix, accuracy_score\n",
    "cm = confusion_matrix(y_test, y_pred)\n",
    "\n",
    "#print the Confusion Matrix\n",
    "print('Confusion Matrix')\n",
    "print(cm)\n",
    "\n",
    "#Calculate the Accuracy\n",
    "acc = accuracy_score(y_test, y_pred)\n",
    "\n",
    "#Printing the Accuracy\n",
    "print('Accuracy:', acc)"
   ]
  },
  {
   "cell_type": "code",
   "execution_count": null,
   "id": "be30c3cf",
   "metadata": {},
   "outputs": [],
   "source": [
    "import matplotlib.pyplot as plt\n",
    "\n",
    "#Plotting the Training and Validation Loss\n",
    "plt.plot(history.history['loss'], label = 'Training Loss')\n",
    "plt.plot(history.history['val_loss'], label = 'Validation Loss')\n",
    "plt.title('Training and Validation Loss')\n",
    "plt.xlabel('Epochs')\n",
    "plt.ylabel('Loss')\n",
    "plt.legend()\n",
    "plt.show()\n",
    "\n",
    "#Plotting the Training and Validation Accuracy \n",
    "plt.plot(history.history['accuracy'], label = 'Training Accuracy')\n",
    "plt.plot(history.history['val_accuracy'], label = 'Validation Loss')\n",
    "plt.title('Training and Validation Loss')\n",
    "plt.xlabel('Epochs')\n",
    "plt.ylabel('Loss')\n",
    "plt.legend()\n",
    "plt.show()"
   ]
  }
 ],
 "metadata": {
  "kernelspec": {
   "display_name": "Python 3 (ipykernel)",
   "language": "python",
   "name": "python3"
  },
  "language_info": {
   "codemirror_mode": {
    "name": "ipython",
    "version": 3
   },
   "file_extension": ".py",
   "mimetype": "text/x-python",
   "name": "python",
   "nbconvert_exporter": "python",
   "pygments_lexer": "ipython3",
   "version": "3.9.18"
  }
 },
 "nbformat": 4,
 "nbformat_minor": 5
}
