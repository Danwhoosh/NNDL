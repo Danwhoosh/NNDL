{
 "cells": [
  {
   "cell_type": "markdown",
   "id": "774637e8",
   "metadata": {},
   "source": [
    "# Keras Hyperparameter Tuner"
   ]
  },
  {
   "cell_type": "code",
   "execution_count": 1,
   "id": "b640e17b",
   "metadata": {},
   "outputs": [
    {
     "name": "stdout",
     "output_type": "stream",
     "text": [
      "Requirement already satisfied: keras_tuner in c:\\users\\student\\.conda\\envs\\nm21ai024\\lib\\site-packages (1.4.1)\n",
      "Requirement already satisfied: keras-core in c:\\users\\student\\.conda\\envs\\nm21ai024\\lib\\site-packages (from keras_tuner) (0.1.7)\n",
      "Requirement already satisfied: packaging in c:\\users\\student\\.conda\\envs\\nm21ai024\\lib\\site-packages (from keras_tuner) (23.1)\n",
      "Requirement already satisfied: requests in c:\\users\\student\\.conda\\envs\\nm21ai024\\lib\\site-packages (from keras_tuner) (2.31.0)\n",
      "Requirement already satisfied: kt-legacy in c:\\users\\student\\.conda\\envs\\nm21ai024\\lib\\site-packages (from keras_tuner) (1.0.5)\n",
      "Requirement already satisfied: absl-py in c:\\users\\student\\.conda\\envs\\nm21ai024\\lib\\site-packages (from keras-core->keras_tuner) (1.4.0)\n",
      "Requirement already satisfied: numpy in c:\\users\\student\\.conda\\envs\\nm21ai024\\lib\\site-packages (from keras-core->keras_tuner) (1.24.3)\n",
      "Requirement already satisfied: rich in c:\\users\\student\\.conda\\envs\\nm21ai024\\lib\\site-packages (from keras-core->keras_tuner) (13.5.3)\n",
      "Requirement already satisfied: namex in c:\\users\\student\\.conda\\envs\\nm21ai024\\lib\\site-packages (from keras-core->keras_tuner) (0.0.7)\n",
      "Requirement already satisfied: h5py in c:\\users\\student\\.conda\\envs\\nm21ai024\\lib\\site-packages (from keras-core->keras_tuner) (3.9.0)\n",
      "Requirement already satisfied: dm-tree in c:\\users\\student\\.conda\\envs\\nm21ai024\\lib\\site-packages (from keras-core->keras_tuner) (0.1.8)\n",
      "Requirement already satisfied: charset-normalizer<4,>=2 in c:\\users\\student\\.conda\\envs\\nm21ai024\\lib\\site-packages (from requests->keras_tuner) (2.0.4)\n",
      "Requirement already satisfied: idna<4,>=2.5 in c:\\users\\student\\.conda\\envs\\nm21ai024\\lib\\site-packages (from requests->keras_tuner) (3.4)\n",
      "Requirement already satisfied: urllib3<3,>=1.21.1 in c:\\users\\student\\.conda\\envs\\nm21ai024\\lib\\site-packages (from requests->keras_tuner) (1.26.16)\n",
      "Requirement already satisfied: certifi>=2017.4.17 in c:\\users\\student\\.conda\\envs\\nm21ai024\\lib\\site-packages (from requests->keras_tuner) (2023.7.22)\n",
      "Requirement already satisfied: markdown-it-py>=2.2.0 in c:\\users\\student\\.conda\\envs\\nm21ai024\\lib\\site-packages (from rich->keras-core->keras_tuner) (3.0.0)\n",
      "Requirement already satisfied: pygments<3.0.0,>=2.13.0 in c:\\users\\student\\.conda\\envs\\nm21ai024\\lib\\site-packages (from rich->keras-core->keras_tuner) (2.15.1)\n",
      "Requirement already satisfied: mdurl~=0.1 in c:\\users\\student\\.conda\\envs\\nm21ai024\\lib\\site-packages (from markdown-it-py>=2.2.0->rich->keras-core->keras_tuner) (0.1.2)\n"
     ]
    }
   ],
   "source": [
    "!pip install keras_tuner"
   ]
  },
  {
   "cell_type": "code",
   "execution_count": 2,
   "id": "fe03db7c",
   "metadata": {},
   "outputs": [
    {
     "name": "stdout",
     "output_type": "stream",
     "text": [
      "Using TensorFlow backend\n"
     ]
    }
   ],
   "source": [
    "import pandas as pd\n",
    "from tensorflow import keras\n",
    "from tensorflow.keras import layers\n",
    "from keras_tuner.tuners import RandomSearch"
   ]
  },
  {
   "cell_type": "code",
   "execution_count": 3,
   "id": "2af4de63",
   "metadata": {},
   "outputs": [
    {
     "data": {
      "text/html": [
       "<div>\n",
       "<style scoped>\n",
       "    .dataframe tbody tr th:only-of-type {\n",
       "        vertical-align: middle;\n",
       "    }\n",
       "\n",
       "    .dataframe tbody tr th {\n",
       "        vertical-align: top;\n",
       "    }\n",
       "\n",
       "    .dataframe thead th {\n",
       "        text-align: right;\n",
       "    }\n",
       "</style>\n",
       "<table border=\"1\" class=\"dataframe\">\n",
       "  <thead>\n",
       "    <tr style=\"text-align: right;\">\n",
       "      <th></th>\n",
       "      <th>T</th>\n",
       "      <th>TM</th>\n",
       "      <th>Tm</th>\n",
       "      <th>SLP</th>\n",
       "      <th>H</th>\n",
       "      <th>VV</th>\n",
       "      <th>V</th>\n",
       "      <th>VM</th>\n",
       "      <th>PM 2.5</th>\n",
       "    </tr>\n",
       "  </thead>\n",
       "  <tbody>\n",
       "    <tr>\n",
       "      <th>0</th>\n",
       "      <td>7.4</td>\n",
       "      <td>9.8</td>\n",
       "      <td>4.8</td>\n",
       "      <td>1017.6</td>\n",
       "      <td>93.0</td>\n",
       "      <td>0.5</td>\n",
       "      <td>4.3</td>\n",
       "      <td>9.4</td>\n",
       "      <td>219.720833</td>\n",
       "    </tr>\n",
       "    <tr>\n",
       "      <th>1</th>\n",
       "      <td>7.8</td>\n",
       "      <td>12.7</td>\n",
       "      <td>4.4</td>\n",
       "      <td>1018.5</td>\n",
       "      <td>87.0</td>\n",
       "      <td>0.6</td>\n",
       "      <td>4.4</td>\n",
       "      <td>11.1</td>\n",
       "      <td>182.187500</td>\n",
       "    </tr>\n",
       "    <tr>\n",
       "      <th>2</th>\n",
       "      <td>6.7</td>\n",
       "      <td>13.4</td>\n",
       "      <td>2.4</td>\n",
       "      <td>1019.4</td>\n",
       "      <td>82.0</td>\n",
       "      <td>0.6</td>\n",
       "      <td>4.8</td>\n",
       "      <td>11.1</td>\n",
       "      <td>154.037500</td>\n",
       "    </tr>\n",
       "    <tr>\n",
       "      <th>3</th>\n",
       "      <td>8.6</td>\n",
       "      <td>15.5</td>\n",
       "      <td>3.3</td>\n",
       "      <td>1018.7</td>\n",
       "      <td>72.0</td>\n",
       "      <td>0.8</td>\n",
       "      <td>8.1</td>\n",
       "      <td>20.6</td>\n",
       "      <td>223.208333</td>\n",
       "    </tr>\n",
       "    <tr>\n",
       "      <th>4</th>\n",
       "      <td>12.4</td>\n",
       "      <td>20.9</td>\n",
       "      <td>4.4</td>\n",
       "      <td>1017.3</td>\n",
       "      <td>61.0</td>\n",
       "      <td>1.3</td>\n",
       "      <td>8.7</td>\n",
       "      <td>22.2</td>\n",
       "      <td>200.645833</td>\n",
       "    </tr>\n",
       "  </tbody>\n",
       "</table>\n",
       "</div>"
      ],
      "text/plain": [
       "      T    TM   Tm     SLP     H   VV    V    VM      PM 2.5\n",
       "0   7.4   9.8  4.8  1017.6  93.0  0.5  4.3   9.4  219.720833\n",
       "1   7.8  12.7  4.4  1018.5  87.0  0.6  4.4  11.1  182.187500\n",
       "2   6.7  13.4  2.4  1019.4  82.0  0.6  4.8  11.1  154.037500\n",
       "3   8.6  15.5  3.3  1018.7  72.0  0.8  8.1  20.6  223.208333\n",
       "4  12.4  20.9  4.4  1017.3  61.0  1.3  8.7  22.2  200.645833"
      ]
     },
     "execution_count": 3,
     "metadata": {},
     "output_type": "execute_result"
    }
   ],
   "source": [
    "# Importing the dataset\n",
    "df= pd.read_csv('Real_Combine.csv')\n",
    "df.head()"
   ]
  },
  {
   "cell_type": "code",
   "execution_count": 4,
   "id": "a65be7ff",
   "metadata": {},
   "outputs": [
    {
     "data": {
      "text/plain": [
       "T         0\n",
       "TM        0\n",
       "Tm        0\n",
       "SLP       0\n",
       "H         0\n",
       "VV        0\n",
       "V         0\n",
       "VM        0\n",
       "PM 2.5    0\n",
       "dtype: int64"
      ]
     },
     "execution_count": 4,
     "metadata": {},
     "output_type": "execute_result"
    }
   ],
   "source": [
    "df = df.dropna()\n",
    "df.isnull().sum()"
   ]
  },
  {
   "cell_type": "code",
   "execution_count": 5,
   "id": "c61adb17",
   "metadata": {},
   "outputs": [],
   "source": [
    "#Creation of feature set and target set\n",
    "x = df.iloc[:,:-1]\n",
    "y = df.iloc[:,-1]"
   ]
  },
  {
   "cell_type": "code",
   "execution_count": 6,
   "id": "cd908e8b",
   "metadata": {},
   "outputs": [],
   "source": [
    "def hyper_tune(param):\n",
    "    model = keras.Sequential()\n",
    "    for i in range(param.Int('num_layers', 2, 20)):\n",
    "        model.add(layers.Dense(units = param.Int('units_'+str(i),\n",
    "                                                min_value = 32,\n",
    "                                                max_value = 512,\n",
    "                                                step = 32),\n",
    "                              activation = 'tanh'))\n",
    "        model.add(layers.Dense(1,activation = 'linear'))\n",
    "        model.compile(\n",
    "            optimizer = keras.optimizers.Adam(param.Choice('learning_rate', [1e-2, 1e-3, 1e-4])),\n",
    "            loss = 'mean_absolute_error',\n",
    "            metrics = ['mean_absolute_error'])\n",
    "        return model"
   ]
  },
  {
   "cell_type": "code",
   "execution_count": 7,
   "id": "9eeb039c",
   "metadata": {},
   "outputs": [],
   "source": [
    "tuner = RandomSearch(\n",
    "    hyper_tune,\n",
    "    objective = 'val_mean_absolute_error',\n",
    "    max_trials = 5,\n",
    "    executions_per_trial = 3,\n",
    "    directory = 'project',\n",
    "    overwrite = True,\n",
    "    project_name = 'Air Quality Index AQI')"
   ]
  },
  {
   "cell_type": "code",
   "execution_count": 8,
   "id": "1af1f0cf",
   "metadata": {},
   "outputs": [
    {
     "name": "stdout",
     "output_type": "stream",
     "text": [
      "Search space summary\n",
      "Default search space size: 3\n",
      "num_layers (Int)\n",
      "{'default': None, 'conditions': [], 'min_value': 2, 'max_value': 20, 'step': 1, 'sampling': 'linear'}\n",
      "units_0 (Int)\n",
      "{'default': None, 'conditions': [], 'min_value': 32, 'max_value': 512, 'step': 32, 'sampling': 'linear'}\n",
      "learning_rate (Choice)\n",
      "{'default': 0.01, 'conditions': [], 'values': [0.01, 0.001, 0.0001], 'ordered': True}\n"
     ]
    }
   ],
   "source": [
    "tuner.search_space_summary()  #skip"
   ]
  },
  {
   "cell_type": "code",
   "execution_count": 9,
   "id": "6c81c30f",
   "metadata": {},
   "outputs": [],
   "source": [
    "from sklearn.model_selection import train_test_split as tts\n",
    "x_train, x_test, y_train, y_test = tts(x, y, test_size = 0.3, random_state = 0)"
   ]
  },
  {
   "cell_type": "code",
   "execution_count": 10,
   "id": "9fdce972",
   "metadata": {},
   "outputs": [
    {
     "name": "stdout",
     "output_type": "stream",
     "text": [
      "Trial 5 Complete [00h 00m 02s]\n",
      "val_mean_absolute_error: 65.4408950805664\n",
      "\n",
      "Best val_mean_absolute_error So Far: 65.18540445963542\n",
      "Total elapsed time: 00h 00m 12s\n"
     ]
    }
   ],
   "source": [
    "tuner.search(x_train, y_train, epochs = 5, validation_data=(x_test, y_test))"
   ]
  },
  {
   "cell_type": "code",
   "execution_count": 11,
   "id": "07e63dbd",
   "metadata": {},
   "outputs": [
    {
     "name": "stdout",
     "output_type": "stream",
     "text": [
      "Epoch 1/5\n",
      "24/24 [==============================] - 0s 5ms/step - loss: 79.2022 - mean_absolute_error: 79.2022 - val_loss: 65.3120 - val_mean_absolute_error: 65.3120\n",
      "Epoch 2/5\n",
      "24/24 [==============================] - 0s 2ms/step - loss: 66.5123 - mean_absolute_error: 66.5123 - val_loss: 66.3351 - val_mean_absolute_error: 66.3351\n",
      "Epoch 3/5\n",
      "24/24 [==============================] - 0s 2ms/step - loss: 66.2541 - mean_absolute_error: 66.2541 - val_loss: 65.5771 - val_mean_absolute_error: 65.5771\n",
      "Epoch 4/5\n",
      "24/24 [==============================] - 0s 2ms/step - loss: 66.2750 - mean_absolute_error: 66.2750 - val_loss: 65.5631 - val_mean_absolute_error: 65.5631\n",
      "Epoch 5/5\n",
      "24/24 [==============================] - 0s 1ms/step - loss: 66.4328 - mean_absolute_error: 66.4328 - val_loss: 65.6838 - val_mean_absolute_error: 65.6838\n"
     ]
    },
    {
     "data": {
      "image/png": "[encoded data removed]",
      "text/plain": [
       "<Figure size 640x480 with 1 Axes>"
      ]
     },
     "metadata": {},
     "output_type": "display_data"
    }
   ],
   "source": [
    "import matplotlib.pyplot as plt\n",
    "\n",
    "#Get the best Hyperparameters found during the search\n",
    "best_hps = tuner.get_best_hyperparameters(1)[0]\n",
    "\n",
    "#Build the model with the best hyperparameters\n",
    "model = hyper_tune(best_hps)\n",
    "\n",
    "#Train the model wth the best hyperparameters on the full training set\n",
    "history = model.fit(x_train, y_train, epochs = 5, validation_data = (x_test, y_test))\n",
    "\n",
    "#Plot the training and validation metrics of each epoch\n",
    "plt.plot(history.history['mean_absolute_error'], label = 'training')\n",
    "plt.plot(history.history['val_mean_absolute_error'], label = 'validation')\n",
    "plt.title('Model Performance During Training')\n",
    "plt.xlabel('Epoch')\n",
    "plt.ylabel('Mean Absolute Error')\n",
    "plt.legend()\n",
    "plt.show()"
   ]
  },
  {
   "cell_type": "code",
   "execution_count": null,
   "id": "f7df4ca9",
   "metadata": {},
   "outputs": [],
   "source": []
  }
 ],
 "metadata": {
  "kernelspec": {
   "display_name": "Python 3 (ipykernel)",
   "language": "python",
   "name": "python3"
  },
  "language_info": {
   "codemirror_mode": {
    "name": "ipython",
    "version": 3
   },
   "file_extension": ".py",
   "mimetype": "text/x-python",
   "name": "python",
   "nbconvert_exporter": "python",
   "pygments_lexer": "ipython3",
   "version": "3.9.18"
  }
 },
 "nbformat": 4,
 "nbformat_minor": 5
}
