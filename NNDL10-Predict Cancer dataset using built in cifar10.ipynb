{
 "cells": [
  {
   "cell_type": "code",
   "execution_count": 2,
   "id": "838649d3",
   "metadata": {},
   "outputs": [],
   "source": [
    "import tensorflow as tf\n",
    "from tensorflow import keras\n",
    "from tensorflow.keras import layers"
   ]
  },
  {
   "cell_type": "code",
   "execution_count": 4,
   "id": "d5da5eea",
   "metadata": {},
   "outputs": [
    {
     "name": "stdout",
     "output_type": "stream",
     "text": [
      "Downloading data from https://www.cs.toronto.edu/~kriz/cifar-10-python.tar.gz\n",
      "170498071/170498071 [==============================] - 232s 1us/step\n"
     ]
    }
   ],
   "source": [
    "#Load the dataset\n",
    "\n",
    "(train_images, train_labels), (test_images, test_labels) = keras.datasets.cifar10.load_data()"
   ]
  },
  {
   "cell_type": "code",
   "execution_count": 5,
   "id": "0835d3b2",
   "metadata": {},
   "outputs": [],
   "source": [
    "#Normalize pixel values to be between 0 and 1\n",
    "train_images = train_images / 255.0\n",
    "test_images = test_images / 255.0"
   ]
  },
  {
   "cell_type": "code",
   "execution_count": 6,
   "id": "495a99e2",
   "metadata": {},
   "outputs": [],
   "source": [
    "#Define the CNN model architecture\n",
    "model = keras.Sequential([\n",
    "    layers.Conv2D(32, (3, 3), activation = 'relu', input_shape = (32, 32, 3)),\n",
    "    layers.MaxPooling2D((2, 2)),\n",
    "    layers.Conv2D(64, (3, 3), activation = 'relu'),\n",
    "    layers.MaxPooling2D((2, 2)),\n",
    "    layers.Conv2D(64, (3, 3), activation = 'relu'),\n",
    "    layers.Flatten(),\n",
    "    layers.Dense(64, activation = 'relu'),\n",
    "    layers.Dense(10)\n",
    "])"
   ]
  },
  {
   "cell_type": "code",
   "execution_count": 7,
   "id": "4b7bb26d",
   "metadata": {},
   "outputs": [],
   "source": [
    "#Compile  the model \n",
    "model.compile(optimizer = 'adam',\n",
    "             loss = tf.keras.losses.SparseCategoricalCrossentropy(from_logits=True),\n",
    "             metrics = ['accuracy'])"
   ]
  },
  {
   "cell_type": "code",
   "execution_count": 8,
   "id": "e4caa1ab",
   "metadata": {},
   "outputs": [
    {
     "name": "stdout",
     "output_type": "stream",
     "text": [
      "Epoch 1/10\n",
      "1563/1563 [==============================] - 34s 21ms/step - loss: 1.5366 - accuracy: 0.4377 - val_loss: 1.2880 - val_accuracy: 0.5333\n",
      "Epoch 2/10\n",
      "1563/1563 [==============================] - 33s 21ms/step - loss: 1.1867 - accuracy: 0.5779 - val_loss: 1.1624 - val_accuracy: 0.5914\n",
      "Epoch 3/10\n",
      "1563/1563 [==============================] - 34s 21ms/step - loss: 1.0408 - accuracy: 0.6315 - val_loss: 1.0447 - val_accuracy: 0.6350\n",
      "Epoch 4/10\n",
      "1563/1563 [==============================] - 32s 21ms/step - loss: 0.9548 - accuracy: 0.6655 - val_loss: 1.0317 - val_accuracy: 0.6416\n",
      "Epoch 5/10\n",
      "1563/1563 [==============================] - 28s 18ms/step - loss: 0.8795 - accuracy: 0.6893 - val_loss: 0.9311 - val_accuracy: 0.6750\n",
      "Epoch 6/10\n",
      "1563/1563 [==============================] - 27s 17ms/step - loss: 0.8225 - accuracy: 0.7128 - val_loss: 0.9241 - val_accuracy: 0.6818\n",
      "Epoch 7/10\n",
      "1563/1563 [==============================] - 27s 17ms/step - loss: 0.7712 - accuracy: 0.7291 - val_loss: 0.8852 - val_accuracy: 0.6941\n",
      "Epoch 8/10\n",
      "1563/1563 [==============================] - 27s 17ms/step - loss: 0.7305 - accuracy: 0.7436 - val_loss: 0.8933 - val_accuracy: 0.6983\n",
      "Epoch 9/10\n",
      "1563/1563 [==============================] - 32s 21ms/step - loss: 0.6895 - accuracy: 0.7581 - val_loss: 0.9179 - val_accuracy: 0.6944\n",
      "Epoch 10/10\n",
      "1563/1563 [==============================] - 32s 21ms/step - loss: 0.6590 - accuracy: 0.7682 - val_loss: 0.8861 - val_accuracy: 0.7063\n"
     ]
    }
   ],
   "source": [
    "#Train the model\n",
    "history = model.fit(train_images, train_labels, epochs = 10,\n",
    "                   validation_data = (test_images, test_labels))"
   ]
  },
  {
   "cell_type": "code",
   "execution_count": 9,
   "id": "5275192c",
   "metadata": {},
   "outputs": [
    {
     "name": "stdout",
     "output_type": "stream",
     "text": [
      "313/313 - 4s - loss: 0.8861 - accuracy: 0.7063 - 4s/epoch - 13ms/step\n",
      "\n",
      "Test Accuracy: 0.7063000202178955\n",
      "313/313 [==============================] - 4s 11ms/step\n"
     ]
    }
   ],
   "source": [
    "#Evaluate the model on the test set\n",
    "test_loss, test_acc = model.evaluate(test_images, test_labels, verbose = 2)\n",
    "print('\\nTest Accuracy:', test_acc)\n",
    "\n",
    "#Make predictions on the new data\n",
    "predictions = model.predict(test_images)"
   ]
  },
  {
   "cell_type": "code",
   "execution_count": null,
   "id": "a2501b30",
   "metadata": {},
   "outputs": [],
   "source": []
  }
 ],
 "metadata": {
  "kernelspec": {
   "display_name": "Python 3 (ipykernel)",
   "language": "python",
   "name": "python3"
  },
  "language_info": {
   "codemirror_mode": {
    "name": "ipython",
    "version": 3
   },
   "file_extension": ".py",
   "mimetype": "text/x-python",
   "name": "python",
   "nbconvert_exporter": "python",
   "pygments_lexer": "ipython3",
   "version": "3.9.18"
  }
 },
 "nbformat": 4,
 "nbformat_minor": 5
}
