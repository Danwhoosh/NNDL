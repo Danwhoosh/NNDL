{
 "cells": [
  {
   "cell_type": "code",
   "execution_count": 1,
   "id": "47b4b50f",
   "metadata": {},
   "outputs": [],
   "source": [
    "import numpy as np\n",
    "from tensorflow import keras\n",
    "from tensorflow.keras import layers\n",
    "from tensorflow.keras.applications import VGG16, VGG19, ResNet50\n",
    "from tensorflow.keras.datasets import cifar10\n",
    "from tensorflow.keras.utils import to_categorical"
   ]
  },
  {
   "cell_type": "code",
   "execution_count": 2,
   "id": "411a180b",
   "metadata": {},
   "outputs": [],
   "source": [
    "#Load the CIFAR-10 dataset\n",
    "\n",
    "(x_train, y_train), (x_test, y_test) = cifar10.load_data()\n",
    "\n",
    "#Preprocess the data\n",
    "\n",
    "x_train = x_train.astype(\"float32\") / 255.0\n",
    "x_test = x_test.astype(\"float32\") / 255.0\n",
    "\n",
    "#Categorical encoding\n",
    "\n",
    "y_train = to_categorical(y_train, 10)\n",
    "y_test = to_categorical(y_test, 10)"
   ]
  },
  {
   "cell_type": "code",
   "execution_count": 3,
   "id": "d4ee30df",
   "metadata": {},
   "outputs": [],
   "source": [
    "#Define the pre-trained models\n",
    "\n",
    "vgg16 = VGG16(weights = \"imagenet\", include_top = False, input_shape = (32, 32, 3))\n",
    "vgg19 = VGG19(weights = \"imagenet\", include_top = False, input_shape = (32, 32, 3))\n",
    "resnet = ResNet50(weights = \"imagenet\", include_top = False, input_shape = (32, 32, 3))"
   ]
  },
  {
   "cell_type": "code",
   "execution_count": 4,
   "id": "80643624",
   "metadata": {},
   "outputs": [],
   "source": [
    "#Define the output layers\n",
    "\n",
    "vgg16_output = layers.GlobalAveragePooling2D()(vgg16.output)\n",
    "vgg16_output = layers.Dense(10, activation = \"softmax\")(vgg16_output)\n",
    "\n",
    "vgg19_output = layers.GlobalAveragePooling2D()(vgg19.output)\n",
    "vgg19_output = layers.Dense(10, activation = \"softmax\")(vgg19_output)\n",
    "\n",
    "resnet_output = layers.GlobalAveragePooling2D()(resnet.output)\n",
    "resnet_output = layers.Dense(10, activation = \"softmax\")(resnet_output)"
   ]
  },
  {
   "cell_type": "code",
   "execution_count": 5,
   "id": "55817ab6",
   "metadata": {},
   "outputs": [],
   "source": [
    "#Define the complete models\n",
    "\n",
    "vgg16_model = keras.Model(inputs = vgg16.input, outputs = vgg16_output)\n",
    "vgg19_model = keras.Model(inputs = vgg19.input, outputs = vgg19_output)\n",
    "resnet_model = keras.Model(inputs = resnet.input, outputs = resnet_output)"
   ]
  },
  {
   "cell_type": "code",
   "execution_count": 6,
   "id": "156ef70b",
   "metadata": {},
   "outputs": [
    {
     "name": "stdout",
     "output_type": "stream",
     "text": [
      "VGG16 Test Accuracy: 0.08860000222921371\n",
      "VGG19 Test Accuracy: 0.11219999939203262\n",
      "ResNet50 Test Accuracy: 0.10000000149011612\n"
     ]
    }
   ],
   "source": [
    "#Compile the models\n",
    "\n",
    "vgg16_model.compile(loss = \"categorical_crossentropy\", optimizer = \"adam\", metrics=['accuracy'])\n",
    "vgg19_model.compile(loss = \"categorical_crossentropy\", optimizer = \"adam\", metrics=['accuracy'])\n",
    "resnet_model.compile(loss = \"categorical_crossentropy\", optimizer = \"adam\", metrics=['accuracy'])\n",
    "\n",
    "#Evaluate the models\n",
    "\n",
    "vgg16_loss, vgg16_accuracy = vgg16_model.evaluate(x_test, y_test, verbose = 0)\n",
    "vgg19_loss, vgg19_accuracy = vgg19_model.evaluate(x_test, y_test, verbose = 0)\n",
    "resnet_loss, resnet_accuracy = resnet_model.evaluate(x_test, y_test, verbose = 0)\n",
    "                                                \n",
    "#Print the results\n",
    "print(\"VGG16 Test Accuracy:\", vgg16_accuracy)\n",
    "print(\"VGG19 Test Accuracy:\", vgg19_accuracy)                                                  \n",
    "print(\"ResNet50 Test Accuracy:\", resnet_accuracy)                                                  "
   ]
  },
  {
   "cell_type": "code",
   "execution_count": null,
   "id": "24637ba0",
   "metadata": {},
   "outputs": [],
   "source": []
  }
 ],
 "metadata": {
  "kernelspec": {
   "display_name": "Python 3 (ipykernel)",
   "language": "python",
   "name": "python3"
  },
  "language_info": {
   "codemirror_mode": {
    "name": "ipython",
    "version": 3
   },
   "file_extension": ".py",
   "mimetype": "text/x-python",
   "name": "python",
   "nbconvert_exporter": "python",
   "pygments_lexer": "ipython3",
   "version": "3.9.18"
  }
 },
 "nbformat": 4,
 "nbformat_minor": 5
}
