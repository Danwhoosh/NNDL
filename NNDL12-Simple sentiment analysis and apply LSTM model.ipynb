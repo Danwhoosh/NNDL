{
 "cells": [
  {
   "cell_type": "markdown",
   "id": "8c4197c7",
   "metadata": {},
   "source": [
    "## Sentiment Analysis using LSTM"
   ]
  },
  {
   "cell_type": "code",
   "execution_count": 1,
   "id": "ced6f8b0",
   "metadata": {},
   "outputs": [],
   "source": [
    "import pandas as pd\n",
    "import numpy as np\n",
    "from tensorflow.keras.preprocessing.text import Tokenizer\n",
    "from tensorflow.keras.preprocessing.sequence import pad_sequences\n",
    "from tensorflow.keras.models import Sequential\n",
    "from tensorflow.keras.layers import Dense, Embedding, LSTM\n",
    "from sklearn.model_selection import train_test_split"
   ]
  },
  {
   "cell_type": "code",
   "execution_count": 2,
   "id": "783fad67",
   "metadata": {},
   "outputs": [],
   "source": [
    "#Step 1 - Load dataset from CSv file\n",
    "\n",
    "df = pd.read_csv('sentiment.csv')\n",
    "texts = df['message to examine'].values\n",
    "labels = df['label (depression result)'].values"
   ]
  },
  {
   "cell_type": "code",
   "execution_count": 3,
   "id": "3e164c0a",
   "metadata": {},
   "outputs": [],
   "source": [
    "#Step 2 - Preprocess text data\n",
    "tokenizer = Tokenizer()\n",
    "tokenizer.fit_on_texts(texts)\n",
    "sequences = tokenizer.texts_to_sequences(texts)\n",
    "data = pad_sequences(sequences)"
   ]
  },
  {
   "cell_type": "code",
   "execution_count": 4,
   "id": "16da455f",
   "metadata": {},
   "outputs": [],
   "source": [
    "#Step 3 - Define and train LSTM model\n",
    "x_train, x_test, y_train, y_test = train_test_split(data, labels, test_size = 0.2)\n",
    "model = Sequential()\n",
    "model.add(Embedding(len(tokenizer.word_index)+1, 32, input_length = data.shape[1]))\n",
    "model.add(LSTM(64))\n",
    "model.add(Dense(1, activation = 'sigmoid'))\n",
    "model.compile(loss = 'binary_crossentropy', optimizer = 'adam', metrics = ['accuracy'])"
   ]
  },
  {
   "cell_type": "code",
   "execution_count": 5,
   "id": "db10e202",
   "metadata": {},
   "outputs": [],
   "source": [
    "y_train = np.asarray(y_train, dtype = float)\n",
    "y_test = np.asarray(y_test, dtype = float)"
   ]
  },
  {
   "cell_type": "code",
   "execution_count": 6,
   "id": "15e9eda4",
   "metadata": {},
   "outputs": [
    {
     "name": "stdout",
     "output_type": "stream",
     "text": [
      "258/258 [==============================] - 7s 24ms/step - loss: 0.2101 - accuracy: 0.9147 - val_loss: 0.0275 - val_accuracy: 0.9952\n"
     ]
    },
    {
     "data": {
      "text/plain": [
       "<keras.src.callbacks.History at 0x258c956ca90>"
      ]
     },
     "execution_count": 6,
     "metadata": {},
     "output_type": "execute_result"
    }
   ],
   "source": [
    "model.fit(x_train, y_train, validation_data = (x_test, y_test),epochs = 1)"
   ]
  },
  {
   "cell_type": "code",
   "execution_count": 7,
   "id": "9e9d6a7e",
   "metadata": {},
   "outputs": [
    {
     "name": "stdout",
     "output_type": "stream",
     "text": [
      "1/1 [==============================] - 0s 243ms/step\n"
     ]
    }
   ],
   "source": [
    "#Step 4 - Use the trained model to classify new text\n",
    "new_text = \"I had a terrible experience with the product and service\"\n",
    "new_sequence = tokenizer.texts_to_sequences([new_text])\n",
    "new_data = pad_sequences(new_sequence, maxlen = data.shape[1])\n",
    "predicted_sentiment = model.predict(new_data)"
   ]
  },
  {
   "cell_type": "code",
   "execution_count": 9,
   "id": "99cf8b0b",
   "metadata": {},
   "outputs": [
    {
     "name": "stdout",
     "output_type": "stream",
     "text": [
      "65/65 [==============================] - 0s 6ms/step - loss: 0.0275 - accuracy: 0.9952\n",
      "Accuracy:  0.9951527118682861\n"
     ]
    }
   ],
   "source": [
    "#Step 5 - Evaluate the model\n",
    "scores = model.evaluate(x_test, y_test)\n",
    "print(\"Accuracy: \", scores[1])"
   ]
  },
  {
   "cell_type": "code",
   "execution_count": null,
   "id": "66715a5b",
   "metadata": {},
   "outputs": [],
   "source": []
  }
 ],
 "metadata": {
  "kernelspec": {
   "display_name": "Python 3 (ipykernel)",
   "language": "python",
   "name": "python3"
  },
  "language_info": {
   "codemirror_mode": {
    "name": "ipython",
    "version": 3
   },
   "file_extension": ".py",
   "mimetype": "text/x-python",
   "name": "python",
   "nbconvert_exporter": "python",
   "pygments_lexer": "ipython3",
   "version": "3.9.18"
  }
 },
 "nbformat": 4,
 "nbformat_minor": 5
}
